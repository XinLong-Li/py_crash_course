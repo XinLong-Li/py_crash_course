{
 "cells": [
  {
   "cell_type": "markdown",
   "metadata": {},
   "source": [
    "# What is a Jupyter Notebook?\n",
    "在写程序的时候往往会有一些思路，解释，分析，运行结果等等，需要记下来，比较长的就不太适合在程序里面注释，记在其它地方又容易忘掉。Notebook完美地解决了这个问题。\n",
    "`pynb`是ipython notebook的缩写，它开始只支持python，后来又支持了其它40多种编辑语言，就改名叫Jupyter notebook。\n",
    " Notebook存储python程序的文件是ipynb，ipynb一种文本文件，可以用vi直接打开，文件中除了程序和说明还有一些结构信息，不能直接用python执行，但在notebook界面中可以被导出成.py程序，还可以导出成html, pdf等格式，像Kaggle上面的程序及说明都是这种格式的，Github也支持该格式的完美显示，即：在Github中打开.pynb文件看到的就是分块的代码。\n",
    " Notebook是用网页访问的，你可以在网页中编写和执行程序。并且可以在其它机器上远程调用它，这种环境也屏蔽了不同系统的显示差异。在分享示例代码的时候，也非常方便，完全不用再去考虑格式的问题。\n",
    "\n",
    "作者：xieyan0811\n",
    "链接：https://www.jianshu.com/p/640e65d63abb\n",
    "来源：简书\n",
    "著作权归作者所有。商业转载请联系作者获得授权，非商业转载请注明出处。"
   ]
  },
  {
   "cell_type": "markdown",
   "metadata": {},
   "source": [
    "# What is `__name__`?\n",
    "在Python中，`__name__`是一个特殊的内置变量，它代表当前模块的名字。\n",
    "\n",
    "如果你直接运行一个Python文件，那么`__name__`的值会是`\"__main__\"`。这是因为当你直接运行一个文件时，Python会把这个文件当作主程序来执行，所以`__name__`的值是`\"__main__\"`。\n",
    "\n",
    "但是，如果你导入一个Python模块，那么`__name__`的值就会是这个模块的名字。例如，如果你有一个名为`my_module.py`的文件，并且你在另一个Python文件中导入了这个模块，那么在`my_module.py`中，`__name__`的值就会是`\"my_module\"`。\n",
    "\n",
    "所以，`if __name__ == \"__main__\":`这行代码的意思是，\"如果这个文件被直接运行，而不是被导入，那么就执行下面的代码\"。这是一种常见的Python编程模式，用于区分一个Python文件是被直接运行，还是被导入。\n"
   ]
  },
  {
   "cell_type": "code",
   "execution_count": 5,
   "metadata": {},
   "outputs": [
    {
     "name": "stdout",
     "output_type": "stream",
     "text": [
      "Hello, Alice!\n"
     ]
    }
   ],
   "source": [
    "# import sys\n",
    "def greeting(name = \"World\"):\n",
    "    print(\"Hello, \" + name + \"!\")\n",
    "\n",
    "if __name__ == \"__main__\":\n",
    "    greeting(\"Alice\")"
   ]
  }
 ],
 "metadata": {
  "kernelspec": {
   "display_name": "crash_course",
   "language": "python",
   "name": "python3"
  },
  "language_info": {
   "codemirror_mode": {
    "name": "ipython",
    "version": 3
   },
   "file_extension": ".py",
   "mimetype": "text/x-python",
   "name": "python",
   "nbconvert_exporter": "python",
   "pygments_lexer": "ipython3",
   "version": "3.9.19"
  }
 },
 "nbformat": 4,
 "nbformat_minor": 2
}
